{
 "cells": [
  {
   "cell_type": "markdown",
   "id": "acc580a3-ecad-4c57-8cc9-6be5663e0768",
   "metadata": {},
   "source": [
    "# What is Markdown?"
   ]
  },
  {
   "cell_type": "markdown",
   "id": "eb5b1ed9-8659-4938-b10f-d589ff5f96df",
   "metadata": {},
   "source": [
    "# This is a level 1 heading\n",
    "## This is a level 2 heading\n",
    "This is some plain text that forms a paragraph.\n",
    "Add emphasis via **bold** and __bold__, or *italic* and _italic_.\n",
    "Paragraphs must be separated by an empty line.\n",
    "* Sometimes we want to include lists.\n",
    "* Which can be indented.\n",
    "1. Lists can also be numbered.\n",
    "2. For ordered lists.\n",
    "[It is possible to include hyperlinks](https://www.example.com)\n",
    "Inline code uses single backticks: `foo()`, and code blocks use triple backticks:\n",
    "​```\n",
    "bar()\n",
    "bar()\n",
    "​```\n",
    "Or can be indented by 4 spaces:\n",
    "foo()\n",
    "And finally, adding images is easy: ![vector_operations](test.jpg)"
   ]
  },
  {
   "cell_type": "code",
   "execution_count": null,
   "id": "b3abaddf-c368-4301-964b-2b0733242dce",
   "metadata": {},
   "outputs": [],
   "source": []
  }
 ],
 "metadata": {
  "kernelspec": {
   "display_name": "Python 3",
   "language": "python",
   "name": "python3"
  },
  "language_info": {
   "codemirror_mode": {
    "name": "ipython",
    "version": 3
   },
   "file_extension": ".py",
   "mimetype": "text/x-python",
   "name": "python",
   "nbconvert_exporter": "python",
   "pygments_lexer": "ipython3",
   "version": "3.12.4"
  }
 },
 "nbformat": 4,
 "nbformat_minor": 5
}

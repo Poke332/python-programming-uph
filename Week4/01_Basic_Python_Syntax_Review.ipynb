{
 "cells": [
  {
   "cell_type": "markdown",
   "id": "832027a1",
   "metadata": {},
   "source": [
    "# Basic Python Syntax Review\n",
    "## Variables, Lists, Basic Operations"
   ]
  },
  {
   "cell_type": "markdown",
   "id": "fe5fe4d2",
   "metadata": {},
   "source": [
    "This notebook provides a brief review of basic Python syntax. We will cover variables, lists, and basic operations, which are essential for understanding and implementing linear algebra concepts in Python."
   ]
  },
  {
   "cell_type": "markdown",
   "id": "c46b0d51-62ef-4830-8aff-39a217770c35",
   "metadata": {},
   "source": [
    "Reference: https://www.learnpython.org/zh/Basic%20Operators"
   ]
  },
  {
   "cell_type": "markdown",
   "id": "6efbee70",
   "metadata": {},
   "source": [
    "### Variables\n",
    "In Python, variables are used to store data."
   ]
  },
  {
   "cell_type": "code",
   "execution_count": 1,
   "id": "a4c36341",
   "metadata": {},
   "outputs": [
    {
     "name": "stdout",
     "output_type": "stream",
     "text": [
      "x: 5\n",
      "y: 3.14\n",
      "name: Alice\n",
      "is_student: True\n"
     ]
    }
   ],
   "source": [
    "x = 5\n",
    "y = 3.14\n",
    "name = \"Alice\"\n",
    "is_student = True\n",
    "\n",
    "print(\"x:\", x)\n",
    "print(\"y:\", y)\n",
    "print(\"name:\", name)\n",
    "print(\"is_student:\", is_student)"
   ]
  },
  {
   "cell_type": "markdown",
   "id": "c5a142bb",
   "metadata": {},
   "source": [
    "### Basic Operations\n",
    "You can perform arithmetic and comparison operations in Python."
   ]
  },
  {
   "cell_type": "code",
   "execution_count": 4,
   "id": "7cd120de",
   "metadata": {},
   "outputs": [
    {
     "name": "stdout",
     "output_type": "stream",
     "text": [
      "Addition: 13\n",
      "Subtraction: 7\n",
      "Multiplication: 30\n",
      "Division: 3.3333333333333335\n",
      "Exponentiation: 1000\n",
      "Modulus: 1\n"
     ]
    }
   ],
   "source": [
    "a = 10\n",
    "b = 3\n",
    "\n",
    "print(\"Addition:\", a + b)\n",
    "print(\"Subtraction:\", a - b)\n",
    "print(\"Multiplication:\", a * b)\n",
    "print(\"Division:\", a / b)\n",
    "print(\"Exponentiation:\", a ** b)\n",
    "print(\"Modulus:\", a % b)"
   ]
  },
  {
   "cell_type": "code",
   "execution_count": 6,
   "id": "323c7382-874f-4035-8ea9-542fb0440718",
   "metadata": {},
   "outputs": [
    {
     "name": "stdout",
     "output_type": "stream",
     "text": [
      "2.5\n"
     ]
    }
   ],
   "source": [
    "# Python follows the order of operations \n",
    "number = 1 + 2 * 3 / 4.0\n",
    "print(number)"
   ]
  },
  {
   "cell_type": "code",
   "execution_count": 7,
   "id": "a7d5ccaf-f9f4-4ad9-a8cf-5e25bfa3fa53",
   "metadata": {},
   "outputs": [
    {
     "name": "stdout",
     "output_type": "stream",
     "text": [
      "hello world\n"
     ]
    }
   ],
   "source": [
    "# Python supports using the plus operator to concatenate strings.\n",
    "hello_world = \"hello\" + \" \" + \"world\"\n",
    "print(hello_world)"
   ]
  },
  {
   "cell_type": "code",
   "execution_count": 9,
   "id": "2f509fa5-8fbb-4e75-b8ac-18397d461354",
   "metadata": {},
   "outputs": [
    {
     "name": "stdout",
     "output_type": "stream",
     "text": [
      "hellohellohellohellohellohellohellohellohellohello\n"
     ]
    }
   ],
   "source": [
    "# Python also supports using the multiplication operator to repeat strings and form new ones.\n",
    "lots_of_hellos = \"hello\" * 10\n",
    "print(lots_of_hellos)"
   ]
  },
  {
   "cell_type": "markdown",
   "id": "bf7e9731",
   "metadata": {},
   "source": [
    "### Lists\n",
    "Lists are used to store multiple items in a single variable."
   ]
  },
  {
   "cell_type": "code",
   "execution_count": 5,
   "id": "f298a0d0",
   "metadata": {},
   "outputs": [
    {
     "name": "stdout",
     "output_type": "stream",
     "text": [
      "numbers: [1, 2, 3, 4, 5]\n",
      "names: ['Alice', 'Bob', 'Charlie']\n"
     ]
    }
   ],
   "source": [
    "numbers = [1, 2, 3, 4, 5]\n",
    "names = [\"Alice\", \"Bob\", \"Charlie\"]\n",
    "\n",
    "print(\"numbers:\", numbers)\n",
    "print(\"names:\", names)"
   ]
  },
  {
   "cell_type": "markdown",
   "id": "1fa040ed",
   "metadata": {},
   "source": [
    "#### List Operations"
   ]
  },
  {
   "cell_type": "code",
   "execution_count": 9,
   "id": "73e603ec-96c1-46f7-b02b-db1c968b9c20",
   "metadata": {},
   "outputs": [
    {
     "name": "stdout",
     "output_type": "stream",
     "text": [
      "all_numbers: [1, 3, 5, 7, 2, 4, 6, 8]\n"
     ]
    }
   ],
   "source": [
    "# Lists can be concatenated using the addition operator.\n",
    "even_numbers = [2,4,6,8]\n",
    "odd_numbers = [1,3,5,7]\n",
    "all_numbers = odd_numbers + even_numbers\n",
    "print(\"all_numbers:\", all_numbers)"
   ]
  },
  {
   "cell_type": "code",
   "execution_count": 10,
   "id": "09ad46a0-a329-42f8-ac83-4efd54540443",
   "metadata": {},
   "outputs": [
    {
     "name": "stdout",
     "output_type": "stream",
     "text": [
      "[1, 2, 3, 1, 2, 3, 1, 2, 3]\n"
     ]
    }
   ],
   "source": [
    "# Just like strings, Python supports using the multiplication operator to create a new list with repeated sequences.\n",
    "print([1,2,3] * 3)"
   ]
  },
  {
   "cell_type": "code",
   "execution_count": 11,
   "id": "f6d841d7",
   "metadata": {},
   "outputs": [
    {
     "name": "stdout",
     "output_type": "stream",
     "text": [
      "After append: [1, 3, 5, 7, 2, 4, 6, 8, 100]\n",
      "First element: 1\n",
      "Last element: 100\n",
      "Sublist (index 1 to 3): [3, 5, 7]\n"
     ]
    }
   ],
   "source": [
    "all_numbers.append(100)\n",
    "print(\"After append:\", all_numbers)\n",
    "\n",
    "print(\"First element:\", all_numbers[0])\n",
    "print(\"Last element:\", all_numbers[-1])\n",
    "\n",
    "sublist = all_numbers[1:4]\n",
    "print(\"Sublist (index 1 to 3):\", sublist)"
   ]
  },
  {
   "cell_type": "code",
   "execution_count": 12,
   "id": "a96c4601-b09f-48cd-b36f-af1cb097cd81",
   "metadata": {},
   "outputs": [
    {
     "name": "stdout",
     "output_type": "stream",
     "text": [
      "[10, 3, 5, 7, 2, 4, 6, 8, 100]\n"
     ]
    }
   ],
   "source": [
    "all_numbers[0] = 10\n",
    "print(all_numbers)"
   ]
  },
  {
   "cell_type": "markdown",
   "id": "4d77d04c",
   "metadata": {},
   "source": [
    "You now have a basic understanding of Python syntax. Let's move on to how these basics apply to linear algebra operations in Python!"
   ]
  }
 ],
 "metadata": {
  "kernelspec": {
   "display_name": "Python 3",
   "language": "python",
   "name": "python3"
  },
  "language_info": {
   "codemirror_mode": {
    "name": "ipython",
    "version": 3
   },
   "file_extension": ".py",
   "mimetype": "text/x-python",
   "name": "python",
   "nbconvert_exporter": "python",
   "pygments_lexer": "ipython3",
   "version": "3.12.4"
  }
 },
 "nbformat": 4,
 "nbformat_minor": 5
}

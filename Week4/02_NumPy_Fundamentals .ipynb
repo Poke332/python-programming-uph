{
 "cells": [
  {
   "cell_type": "markdown",
   "id": "a869ee0a-b840-460e-b16a-38254b6b3ad5",
   "metadata": {},
   "source": [
    "# What is NumPy?\n",
    "NumPy is the fundamental package for scientific computing in Python. It is a Python library that provides a multidimensional array object, various derived objects (such as masked arrays and matrices), and an assortment of routines for fast operations on arrays, including mathematical, logical, shape manipulation, sorting, selecting, I/O, discrete Fourier transforms, basic linear algebra, basic statistical operations, random simulation and much more."
   ]
  },
  {
   "cell_type": "code",
   "execution_count": 1,
   "id": "0af86511-9f9e-4975-a5af-566e5bd6ad38",
   "metadata": {},
   "outputs": [],
   "source": [
    "import numpy as np"
   ]
  },
  {
   "attachments": {
    "23d6a4dd-a395-429c-a85d-daf1adc78ebc.png": {
     "image/png": "[encoded data removed]"
    },
    "ca7c97a3-0c12-4d71-8e0d-b36afc761e9d.png": {
     "image/png": "[encoded data removed]"
    }
   },
   "cell_type": "markdown",
   "id": "3373398e-5f3c-4dcb-9245-b1a453415d9a",
   "metadata": {},
   "source": [
    "# What is an “array”?\n",
    "In computer programming, an array is a structure for storing and retrieving data. We often talk about an array as if it were a grid in space, with each cell storing one element of the data. \n",
    "\n",
    "For instance, if each element of the data were a number, we might visualize a “one-dimensional” array like a list:\n",
    "\n",
    "![image.png](attachment:23d6a4dd-a395-429c-a85d-daf1adc78ebc.png)\n",
    "\n",
    "A two-dimensional array would be like a table:\n",
    "\n",
    "![image.png](attachment:ca7c97a3-0c12-4d71-8e0d-b36afc761e9d.png)\n",
    "\n",
    "A three-dimensional array would be like a set of tables, perhaps stacked as though they were printed on separate pages. In NumPy, this idea is generalized to an arbitrary number of dimensions, and so the fundamental array class is called ndarray: it represents an “N-dimensional array”."
   ]
  },
  {
   "cell_type": "markdown",
   "id": "7c2cbea2-e896-4184-a720-04f90b8fc052",
   "metadata": {},
   "source": [
    "Most NumPy arrays have some restrictions. For instance:\n",
    "\n",
    "- All elements of the array must be of the same type of data.\n",
    "\n",
    "- Once created, the total size of the array can’t change.\n",
    "\n",
    "- The shape must be “rectangular”, not “jagged”; e.g., each row of a two-dimensional array must have the same number of columns.\n",
    "\n",
    "When these conditions are met, NumPy exploits these characteristics to make the array faster, more memory efficient, and more convenient to use than less restrictive data structures.\n",
    "\n",
    "For the remainder of this document, we will use the word “array” to refer to an instance of ndarray."
   ]
  },
  {
   "cell_type": "markdown",
   "id": "10fe8af5-58f4-4585-bf0e-1ac2a9b03c5b",
   "metadata": {},
   "source": [
    "# Create arrays"
   ]
  },
  {
   "cell_type": "code",
   "execution_count": 11,
   "id": "d80540c1-aa1f-4278-9dfb-89580386cbb3",
   "metadata": {},
   "outputs": [
    {
     "name": "stdout",
     "output_type": "stream",
     "text": [
      "a: [1 2 3]\n",
      "b:\n",
      " [[1 2]\n",
      " [3 4]]\n"
     ]
    }
   ],
   "source": [
    "a = np.array([1, 2, 3])\n",
    "print(\"a:\", a)  # [1 2 3]\n",
    "\n",
    "b = np.array([[1, 2], [3, 4]])\n",
    "print(\"b:\\n\", b)"
   ]
  },
  {
   "cell_type": "code",
   "execution_count": 6,
   "id": "f3f37996-1bda-455f-bc68-a44202ab13c1",
   "metadata": {},
   "outputs": [
    {
     "ename": "ValueError",
     "evalue": "setting an array element with a sequence. The requested array has an inhomogeneous shape after 1 dimensions. The detected shape was (2,) + inhomogeneous part.",
     "output_type": "error",
     "traceback": [
      "\u001b[0;31m---------------------------------------------------------------------------\u001b[0m",
      "\u001b[0;31mValueError\u001b[0m                                Traceback (most recent call last)",
      "Cell \u001b[0;32mIn[6], line 1\u001b[0m\n\u001b[0;32m----> 1\u001b[0m c \u001b[38;5;241m=\u001b[39m \u001b[43mnp\u001b[49m\u001b[38;5;241;43m.\u001b[39;49m\u001b[43marray\u001b[49m\u001b[43m(\u001b[49m\u001b[43m[\u001b[49m\u001b[43m[\u001b[49m\u001b[38;5;241;43m1\u001b[39;49m\u001b[43m,\u001b[49m\u001b[43m \u001b[49m\u001b[38;5;241;43m2\u001b[39;49m\u001b[43m]\u001b[49m\u001b[43m,\u001b[49m\u001b[43m \u001b[49m\u001b[43m[\u001b[49m\u001b[38;5;241;43m3\u001b[39;49m\u001b[43m,\u001b[49m\u001b[43m \u001b[49m\u001b[38;5;241;43m4\u001b[39;49m\u001b[43m,\u001b[49m\u001b[43m \u001b[49m\u001b[38;5;241;43m5\u001b[39;49m\u001b[43m]\u001b[49m\u001b[43m]\u001b[49m\u001b[43m)\u001b[49m\n\u001b[1;32m      2\u001b[0m \u001b[38;5;28mprint\u001b[39m(\u001b[38;5;124m\"\u001b[39m\u001b[38;5;124mc:\u001b[39m\u001b[38;5;124m\"\u001b[39m, c)\n",
      "\u001b[0;31mValueError\u001b[0m: setting an array element with a sequence. The requested array has an inhomogeneous shape after 1 dimensions. The detected shape was (2,) + inhomogeneous part."
     ]
    }
   ],
   "source": [
    "c = np.array([[1, 2], [3, 4, 5]])\n",
    "print(\"c:\", c)"
   ]
  },
  {
   "cell_type": "code",
   "execution_count": 12,
   "id": "5745ccab-8175-4a06-a448-e77fdbd4ef6b",
   "metadata": {},
   "outputs": [
    {
     "name": "stdout",
     "output_type": "stream",
     "text": [
      "zero_array:\n",
      " [[0. 0. 0.]\n",
      " [0. 0. 0.]]\n"
     ]
    }
   ],
   "source": [
    "# 创建一个 2×3 的数组，元素全为 0\n",
    "zero_array = np.zeros((2, 3))\n",
    "print(\"zero_array:\\n\", zero_array)"
   ]
  },
  {
   "cell_type": "code",
   "execution_count": 13,
   "id": "4900f81c-a87a-4155-b67b-7bb16c369374",
   "metadata": {},
   "outputs": [
    {
     "name": "stdout",
     "output_type": "stream",
     "text": [
      "one_array:\n",
      " [[1. 1.]\n",
      " [1. 1.]\n",
      " [1. 1.]]\n"
     ]
    }
   ],
   "source": [
    "# 创建一个 3×2 的数组，元素全为 1\n",
    "one_array = np.ones((3, 2))\n",
    "print(\"one_array:\\n\", one_array)"
   ]
  },
  {
   "cell_type": "code",
   "execution_count": 14,
   "id": "4366bded-e500-4c60-9f6b-79db07dead32",
   "metadata": {},
   "outputs": [
    {
     "name": "stdout",
     "output_type": "stream",
     "text": [
      "e_array:\n",
      " [[1. 0. 0.]\n",
      " [0. 1. 0.]\n",
      " [0. 0. 1.]]\n"
     ]
    }
   ],
   "source": [
    "# 创建一个 3×3 的单位矩阵\n",
    "e_array = np.eye(3)\n",
    "print(\"e_array:\\n\", e_array)"
   ]
  },
  {
   "cell_type": "markdown",
   "id": "2164ced3-0d88-45e7-931f-b5fe7855a7e2",
   "metadata": {},
   "source": [
    "## Array indexing and slicing\n",
    "Elements of an array can be accessed in various ways. "
   ]
  },
  {
   "cell_type": "code",
   "execution_count": 27,
   "id": "41a57731-521d-4a88-8e3e-c53e479b7fb0",
   "metadata": {},
   "outputs": [
    {
     "name": "stdout",
     "output_type": "stream",
     "text": [
      "a1:\n",
      " [1 2 3]\n"
     ]
    }
   ],
   "source": [
    "a1 = np.array([1,2,3])\n",
    "print(\"a1:\\n\",a1)"
   ]
  },
  {
   "cell_type": "markdown",
   "id": "732cb869-eff4-4c8a-83c6-8defa26156f3",
   "metadata": {},
   "source": [
    "Elements of an array can be accessed in various ways. For instance, we can access an individual element of this array as we would access an element in the original list: using the integer index of the element within square brackets."
   ]
  },
  {
   "cell_type": "code",
   "execution_count": 7,
   "id": "688742eb-5e2e-405e-ac9f-8212aa962536",
   "metadata": {},
   "outputs": [
    {
     "name": "stdout",
     "output_type": "stream",
     "text": [
      "a1[0]: 1\n",
      "a1[1]: 2\n",
      "a1[2]: 3\n"
     ]
    }
   ],
   "source": [
    "print(\"a1[0]:\",a1[0])\n",
    "print(\"a1[1]:\",a1[1])\n",
    "print(\"a1[2]:\",a1[2])"
   ]
  },
  {
   "cell_type": "code",
   "execution_count": 8,
   "id": "3b8d0be4-cbb7-4310-a3c6-a7e89374ccf1",
   "metadata": {},
   "outputs": [
    {
     "ename": "IndexError",
     "evalue": "index 3 is out of bounds for axis 0 with size 3",
     "output_type": "error",
     "traceback": [
      "\u001b[0;31m---------------------------------------------------------------------------\u001b[0m",
      "\u001b[0;31mIndexError\u001b[0m                                Traceback (most recent call last)",
      "Cell \u001b[0;32mIn[8], line 1\u001b[0m\n\u001b[0;32m----> 1\u001b[0m \u001b[38;5;28mprint\u001b[39m(\u001b[38;5;124m\"\u001b[39m\u001b[38;5;124ma1[3]:\u001b[39m\u001b[38;5;124m\"\u001b[39m,\u001b[43ma1\u001b[49m\u001b[43m[\u001b[49m\u001b[38;5;241;43m3\u001b[39;49m\u001b[43m]\u001b[49m)\n",
      "\u001b[0;31mIndexError\u001b[0m: index 3 is out of bounds for axis 0 with size 3"
     ]
    }
   ],
   "source": [
    "print(\"a1[3]:\",a1[3])"
   ]
  },
  {
   "cell_type": "code",
   "execution_count": 9,
   "id": "9121d57a-a5d4-4d15-944c-db8e9592c359",
   "metadata": {},
   "outputs": [
    {
     "name": "stdout",
     "output_type": "stream",
     "text": [
      "a1[-1]: 3\n"
     ]
    }
   ],
   "source": [
    "print(\"a1[-1]:\",a1[-1])"
   ]
  },
  {
   "cell_type": "code",
   "execution_count": 11,
   "id": "e5fac578-cb11-4cc0-ab26-74468a584c74",
   "metadata": {},
   "outputs": [
    {
     "name": "stdout",
     "output_type": "stream",
     "text": [
      "a1[-2]: 2\n"
     ]
    }
   ],
   "source": [
    "print(\"a1[-2]:\",a1[-2])"
   ]
  },
  {
   "cell_type": "code",
   "execution_count": 12,
   "id": "7598b03a-743c-476c-893c-0ec4bb71cc8f",
   "metadata": {},
   "outputs": [
    {
     "name": "stdout",
     "output_type": "stream",
     "text": [
      "a1[0:2]: [1 2]\n",
      "a1[:2]: [1 2]\n"
     ]
    }
   ],
   "source": [
    "print(\"a1[0:2]:\",a1[0:2])\n",
    "print(\"a1[:2]:\",a1[:2])"
   ]
  },
  {
   "cell_type": "code",
   "execution_count": 13,
   "id": "e6fe8e98-f35c-4d8d-955c-740ced131294",
   "metadata": {},
   "outputs": [
    {
     "name": "stdout",
     "output_type": "stream",
     "text": [
      "a1 after a1[0]=10: [10  2  3]\n"
     ]
    }
   ],
   "source": [
    "a1[0]=10\n",
    "print(\"a1 after a1[0]=10:\", a1)"
   ]
  },
  {
   "cell_type": "markdown",
   "id": "c7da3fb9-fa99-4d50-9fd5-c69b7d80687d",
   "metadata": {},
   "source": [
    "Slicing an array returns a view: an object that refers to the data in the original array. The original array can be mutated using the view."
   ]
  },
  {
   "cell_type": "code",
   "execution_count": 19,
   "id": "9514e5a6-4826-4fcd-b174-0c4ec7603c6e",
   "metadata": {},
   "outputs": [
    {
     "name": "stdout",
     "output_type": "stream",
     "text": [
      "b1 when b1=a1[1:]: [9 3]\n"
     ]
    }
   ],
   "source": [
    "b1 = a1[1:]\n",
    "print(\"b1 when b1=a1[1:]:\", b1)"
   ]
  },
  {
   "cell_type": "code",
   "execution_count": 20,
   "id": "7b34a322-2480-4656-9669-5aaafeb2445b",
   "metadata": {},
   "outputs": [
    {
     "name": "stdout",
     "output_type": "stream",
     "text": [
      "b1: [9 3]\n",
      "a1 [10  9  3]\n"
     ]
    }
   ],
   "source": [
    "b1[0] = 9\n",
    "print(\"b1:\", b1)\n",
    "print(\"a1\", a1)"
   ]
  },
  {
   "cell_type": "code",
   "execution_count": 21,
   "id": "15570077-8515-4d82-9310-1d4b9f35b628",
   "metadata": {},
   "outputs": [
    {
     "name": "stdout",
     "output_type": "stream",
     "text": [
      "b1: [8 7]\n",
      "a1 [10  8  7]\n"
     ]
    }
   ],
   "source": [
    "b1[0] = 8\n",
    "b1[1] = 7\n",
    "print(\"b1:\", b1)\n",
    "print(\"a1\", a1)"
   ]
  },
  {
   "cell_type": "code",
   "execution_count": 22,
   "id": "4de55919-616f-400c-9ff7-6dd094f4840c",
   "metadata": {},
   "outputs": [
    {
     "name": "stdout",
     "output_type": "stream",
     "text": [
      "b1: [6, 5]\n",
      "a1 [10  8  7]\n"
     ]
    }
   ],
   "source": [
    "b1 = [6, 5]\n",
    "print(\"b1:\", b1)\n",
    "print(\"a1\", a1)"
   ]
  },
  {
   "cell_type": "code",
   "execution_count": 23,
   "id": "2b61924e-ccf7-4749-9256-b5821312e0d7",
   "metadata": {},
   "outputs": [
    {
     "name": "stdout",
     "output_type": "stream",
     "text": [
      "c1: [10  8  7]\n",
      "a1: [10  8  7]\n"
     ]
    }
   ],
   "source": [
    "c1 = a1\n",
    "print(\"c1:\", c1)\n",
    "print(\"a1:\", a1)"
   ]
  },
  {
   "cell_type": "code",
   "execution_count": 24,
   "id": "69395bcf-e29b-414f-9a07-7ddb7e96dcf8",
   "metadata": {},
   "outputs": [
    {
     "name": "stdout",
     "output_type": "stream",
     "text": [
      "c1: [1 8 7]\n",
      "a1: [1 8 7]\n"
     ]
    }
   ],
   "source": [
    "c1[0] = 1\n",
    "print(\"c1:\", c1)\n",
    "print(\"a1:\", a1)"
   ]
  },
  {
   "cell_type": "code",
   "execution_count": 25,
   "id": "9c692253-a3c2-47f9-b3e5-2b4c01ea3e69",
   "metadata": {},
   "outputs": [
    {
     "name": "stdout",
     "output_type": "stream",
     "text": [
      "c1: [1 8 2]\n",
      "a1: [1 8 2]\n"
     ]
    }
   ],
   "source": [
    "c1[2] = 2\n",
    "print(\"c1:\", c1)\n",
    "print(\"a1:\", a1)"
   ]
  },
  {
   "cell_type": "code",
   "execution_count": 26,
   "id": "aa75b998-5d3f-4c1f-8b9c-3e4697a3b001",
   "metadata": {},
   "outputs": [
    {
     "name": "stdout",
     "output_type": "stream",
     "text": [
      "c1: [3, 4, 5]\n",
      "a1: [1 8 2]\n"
     ]
    }
   ],
   "source": [
    "c1 = [3,4,5]\n",
    "print(\"c1:\", c1)\n",
    "print(\"a1:\", a1)"
   ]
  },
  {
   "cell_type": "code",
   "execution_count": 28,
   "id": "04f20cd8-ec36-4a42-98dd-2cecda88719d",
   "metadata": {},
   "outputs": [
    {
     "name": "stdout",
     "output_type": "stream",
     "text": [
      "a2:\n",
      " [[ 1  2  3  4]\n",
      " [ 5  6  7  8]\n",
      " [ 9 10 11 12]]\n"
     ]
    }
   ],
   "source": [
    "a2 = np.array([[1, 2, 3, 4], [5, 6, 7, 8], [9, 10, 11, 12]])\n",
    "print(\"a2:\\n\",a2)"
   ]
  },
  {
   "cell_type": "code",
   "execution_count": 62,
   "id": "c227179b-fa61-4acd-8b4a-b696708b9689",
   "metadata": {},
   "outputs": [
    {
     "name": "stdout",
     "output_type": "stream",
     "text": [
      "a2[1,3]:\n",
      " 8\n"
     ]
    }
   ],
   "source": [
    "print(\"a2[1,3]:\\n\",a2[1,3])"
   ]
  },
  {
   "cell_type": "code",
   "execution_count": 63,
   "id": "58ad4c34-6a23-413a-bf5c-3588405d3f99",
   "metadata": {},
   "outputs": [
    {
     "name": "stdout",
     "output_type": "stream",
     "text": [
      "a2_row0: [1 2 3 4]\n"
     ]
    }
   ],
   "source": [
    "print(\"a2_row0:\", a2[0])"
   ]
  },
  {
   "cell_type": "code",
   "execution_count": 44,
   "id": "25c0dec7-9380-4d38-94a7-fd266138014d",
   "metadata": {},
   "outputs": [
    {
     "name": "stdout",
     "output_type": "stream",
     "text": [
      "a2_row2: [ 9 10 11 12]\n",
      "a2_row2: [ 9 10 11 12]\n",
      "a2_row2: [[ 9 10 11 12]]\n"
     ]
    }
   ],
   "source": [
    "print(\"a2_row2:\", a2[2])\n",
    "print(\"a2_row2:\", a2[2,:])\n",
    "print(\"a2_row2:\", a2[[2]])"
   ]
  },
  {
   "cell_type": "code",
   "execution_count": 33,
   "id": "23d25ac2-751d-460e-9292-870f1fa64b52",
   "metadata": {},
   "outputs": [
    {
     "ename": "IndexError",
     "evalue": "index 3 is out of bounds for axis 0 with size 3",
     "output_type": "error",
     "traceback": [
      "\u001b[0;31m---------------------------------------------------------------------------\u001b[0m",
      "\u001b[0;31mIndexError\u001b[0m                                Traceback (most recent call last)",
      "Cell \u001b[0;32mIn[33], line 1\u001b[0m\n\u001b[0;32m----> 1\u001b[0m \u001b[38;5;28mprint\u001b[39m(\u001b[38;5;124m\"\u001b[39m\u001b[38;5;124ma2[3]:\u001b[39m\u001b[38;5;124m\"\u001b[39m, \u001b[43ma2\u001b[49m\u001b[43m[\u001b[49m\u001b[38;5;241;43m3\u001b[39;49m\u001b[43m]\u001b[49m)\n",
      "\u001b[0;31mIndexError\u001b[0m: index 3 is out of bounds for axis 0 with size 3"
     ]
    }
   ],
   "source": [
    "print(\"a2_row3:\", a2[3])"
   ]
  },
  {
   "cell_type": "code",
   "execution_count": 35,
   "id": "29ea996c-d873-407b-af43-d17646699c60",
   "metadata": {},
   "outputs": [
    {
     "name": "stdout",
     "output_type": "stream",
     "text": [
      "a2[-1]: [ 9 10 11 12]\n"
     ]
    }
   ],
   "source": [
    "print(\"a2_last_row:\", a2[-1])"
   ]
  },
  {
   "cell_type": "code",
   "execution_count": 41,
   "id": "13908396-2c56-411c-946b-a0b8f9fbe076",
   "metadata": {},
   "outputs": [
    {
     "name": "stdout",
     "output_type": "stream",
     "text": [
      "a2_col0:\n",
      " [[1]\n",
      " [5]\n",
      " [9]]\n"
     ]
    }
   ],
   "source": [
    "a2_col0 = a2[:, [0]]\n",
    "print(\"a2_col0:\\n\", a2_col0)"
   ]
  },
  {
   "cell_type": "code",
   "execution_count": 42,
   "id": "7f01566f-6f79-4e51-b41e-401ea8edb323",
   "metadata": {},
   "outputs": [
    {
     "name": "stdout",
     "output_type": "stream",
     "text": [
      "a2_col0:\n",
      " [1 5 9]\n"
     ]
    }
   ],
   "source": [
    "a2_col0 = a2[:, 0]\n",
    "print(\"a2_col0:\\n\", a2_col0)"
   ]
  },
  {
   "cell_type": "markdown",
   "id": "ef9d5d45-9922-459f-8d6e-47e08c196671",
   "metadata": {},
   "source": [
    "## Array attributes\n",
    "This section covers the ndim, shape, size, and dtype attributes of an array."
   ]
  },
  {
   "cell_type": "code",
   "execution_count": 45,
   "id": "3bad1d15-b0f5-4da0-820f-c046b28b86bc",
   "metadata": {},
   "outputs": [
    {
     "name": "stdout",
     "output_type": "stream",
     "text": [
      "a1:\n",
      " [1 2 3]\n",
      "a2:\n",
      " [[ 1  2  3  4]\n",
      " [ 5  6  7  8]\n",
      " [ 9 10 11 12]]\n"
     ]
    }
   ],
   "source": [
    "a1 = np.array([1,2,3])\n",
    "print(\"a1:\\n\",a1)\n",
    "a2 = np.array([[1, 2, 3, 4], [5, 6, 7, 8], [9, 10, 11, 12]])\n",
    "print(\"a2:\\n\",a2)"
   ]
  },
  {
   "cell_type": "code",
   "execution_count": 47,
   "id": "466b528e-d671-473a-bca0-77a038a8e3fb",
   "metadata": {},
   "outputs": [
    {
     "name": "stdout",
     "output_type": "stream",
     "text": [
      "a1_ndim 1\n",
      "a2_ndim 2\n"
     ]
    }
   ],
   "source": [
    "# The number of dimensions of an array is contained in the ndim attribute.\n",
    "print(\"a1_ndim\", a1.ndim)\n",
    "print(\"a2_ndim\", a2.ndim)"
   ]
  },
  {
   "cell_type": "code",
   "execution_count": 51,
   "id": "e2949e54-95c0-4270-b4cf-7902e14ffc36",
   "metadata": {},
   "outputs": [
    {
     "name": "stdout",
     "output_type": "stream",
     "text": [
      "a1_shape: (3,)\n",
      "a2_shape: (3, 4)\n",
      "a1 shape & dim: True\n",
      "a2 shape & dim: True\n"
     ]
    }
   ],
   "source": [
    "# The shape of an array is a tuple of non-negative integers that specify the number of elements along each dimension.\n",
    "print(\"a1_shape:\", a1.shape)\n",
    "print(\"a2_shape:\", a2.shape)\n",
    "print(\"a1 shape & dim:\", len(a1.shape) == a1.ndim)\n",
    "print(\"a2 shape & dim:\", len(a2.shape) == a2.ndim)\n"
   ]
  },
  {
   "cell_type": "code",
   "execution_count": 52,
   "id": "569fbf69-1d3b-41ff-a382-73d32ca00adf",
   "metadata": {},
   "outputs": [
    {
     "name": "stdout",
     "output_type": "stream",
     "text": [
      "number of elements in a1: 3\n",
      "number of elements in a2: 12\n"
     ]
    }
   ],
   "source": [
    "# The fixed, total number of elements in array is contained in the size attribute.\n",
    "print(\"number of elements in a1:\", a1.size)\n",
    "print(\"number of elements in a2:\", a2.size)"
   ]
  },
  {
   "cell_type": "code",
   "execution_count": 53,
   "id": "9cdf84d6-c56b-4cef-9065-efceb05f3855",
   "metadata": {},
   "outputs": [
    {
     "name": "stdout",
     "output_type": "stream",
     "text": [
      "a1 data type: int64\n"
     ]
    }
   ],
   "source": [
    "\"\"\"\n",
    "Arrays are typically “homogeneous”, meaning that they contain elements of only one “data type”. \n",
    "The data type is recorded in the dtype attribute.\n",
    "\"\"\"\n",
    "print(\"a1 data type:\", a1.dtype)"
   ]
  },
  {
   "cell_type": "markdown",
   "id": "7fcce73d-c889-44c4-acdf-a1c178579a0f",
   "metadata": {},
   "source": [
    "## Difference between Python Lists and NumPy Arrays"
   ]
  },
  {
   "cell_type": "markdown",
   "id": "e323a4c8-ed26-4083-83e6-919210469d36",
   "metadata": {},
   "source": [
    "### 1. Data Type Flexibility\n",
    "\n",
    "- Python lists can hold elements of different data types.\n",
    "- NumPy arrays require all elements to be of the same data type."
   ]
  },
  {
   "cell_type": "code",
   "execution_count": 55,
   "id": "017c5410-2c8f-4d1b-a2b0-c3bb9333f965",
   "metadata": {},
   "outputs": [
    {
     "name": "stdout",
     "output_type": "stream",
     "text": [
      "Python list: [1, 2.5, 'three']\n",
      "NumPy array: [1 2 3]\n",
      "NumPy array with mixed types: ['1' '2.5' 'three']\n",
      "Data type of np_mixed array: <U32\n"
     ]
    }
   ],
   "source": [
    "# Python list with mixed types\n",
    "py_list = [1, 2.5, 'three']\n",
    "print(\"Python list:\", py_list)\n",
    "\n",
    "# NumPy array with uniform type\n",
    "np_array = np.array([1, 2, 3])\n",
    "print(\"NumPy array:\", np_array)\n",
    "\n",
    "# Trying to create a NumPy array with mixed types\n",
    "np_mixed = np.array([1, 2.5, 'three']) #turn into string data type\n",
    "print(\"NumPy array with mixed types:\", np_mixed)\n",
    "print(\"Data type of np_mixed array:\", np_mixed.dtype)"
   ]
  },
  {
   "cell_type": "markdown",
   "id": "f997a09e-797a-4a25-9785-e13be6a55f4c",
   "metadata": {},
   "source": [
    "### 2. Performance Comparison\n",
    "\n",
    "NumPy arrays are more efficient in terms of computation speed compared to Python lists.\n",
    "Let's compare the time taken to compute the element-wise sum of two large sequences."
   ]
  },
  {
   "cell_type": "code",
   "execution_count": 5,
   "id": "c628c517-aaf1-45b3-af4f-f996aaa4eadc",
   "metadata": {},
   "outputs": [
    {
     "name": "stdout",
     "output_type": "stream",
     "text": [
      "Time using Python lists: 0.0001 seconds\n",
      "arr1: [0 1 2 3 4 5 6 7 8 9]\n",
      "Time using NumPy arrays: 0.0000 seconds\n"
     ]
    }
   ],
   "source": [
    "import time\n",
    "\n",
    "size = 10\n",
    "\n",
    "# Using Python lists\n",
    "list1 = list(range(size))\n",
    "list2 = list(range(size))\n",
    "\n",
    "start = time.time()\n",
    "result_list = [x + y for x, y in zip(list1, list2)]\n",
    "end = time.time()\n",
    "print(f\"Time using Python lists: {end - start:.4f} seconds\")\n",
    "\n",
    "# Using NumPy arrays\n",
    "arr1 = np.arange(size)\n",
    "arr2 = np.arange(size)\n",
    "print(\"arr1:\",arr1)\n",
    "start = time.time()\n",
    "result_array = arr1 + arr2\n",
    "end = time.time()\n",
    "print(f\"Time using NumPy arrays: {end - start:.4f} seconds\")"
   ]
  },
  {
   "cell_type": "markdown",
   "id": "a88df379-909c-4599-a36d-740de6a21d61",
   "metadata": {},
   "source": [
    "### 3. Vectorized Operations\n",
    "\n",
    "NumPy arrays support vectorized operations directly, without explicit loops."
   ]
  },
  {
   "cell_type": "code",
   "execution_count": 57,
   "id": "cfea4ce3-f57e-49d4-b61f-b441fb738186",
   "metadata": {},
   "outputs": [
    {
     "name": "stdout",
     "output_type": "stream",
     "text": [
      "a + b = [5 7 9]\n",
      "a * b = [ 4 10 18]\n",
      "list_a + list_b = [5, 7, 9]\n"
     ]
    }
   ],
   "source": [
    "a = np.array([1, 2, 3])\n",
    "b = np.array([4, 5, 6])\n",
    "\n",
    "print(\"a + b =\", a + b)\n",
    "print(\"a * b =\", a * b)\n",
    "\n",
    "# For Python lists, you must use loops or comprehensions:\n",
    "list_a = [1, 2, 3]\n",
    "list_b = [4, 5, 6]\n",
    "list_sum = [x + y for x, y in zip(list_a, list_b)]\n",
    "print(\"list_a + list_b =\", list_sum)"
   ]
  },
  {
   "cell_type": "markdown",
   "id": "3ab59043-533d-4a36-8459-7d0c2e6f341f",
   "metadata": {},
   "source": [
    "### 4. Memory Usage\n",
    "\n",
    "NumPy arrays are more memory efficient than Python lists."
   ]
  },
  {
   "cell_type": "code",
   "execution_count": null,
   "id": "a8598a6d-20ed-40d1-bcd6-8da41b66793f",
   "metadata": {},
   "outputs": [],
   "source": [
    "import sys\n",
    "\n",
    "print(\"Memory size of Python list with 1000 ints:\", sys.getsizeof([0]*1000))\n",
    "print(\"Memory size of NumPy array with 1000 ints:\", np.array([0]*1000).nbytes)"
   ]
  },
  {
   "cell_type": "markdown",
   "id": "aa89d995-e8df-4ce2-b383-6cecbcf6b2b5",
   "metadata": {},
   "source": [
    "### 5. Multidimensional Support\n",
    "\n",
    "NumPy arrays natively support multidimensional data, while Python lists can only achieve this by nesting."
   ]
  },
  {
   "cell_type": "code",
   "execution_count": 59,
   "id": "3bd11956-77cf-4cff-924f-c208981558f3",
   "metadata": {},
   "outputs": [
    {
     "name": "stdout",
     "output_type": "stream",
     "text": [
      "Python nested list: [[1, 2], [3, 4]]\n",
      "NumPy 2D array:\n",
      " [[1 2]\n",
      " [3 4]]\n"
     ]
    }
   ],
   "source": [
    "# Python nested lists (2D)\n",
    "py_list_2d = [[1, 2], [3, 4]]\n",
    "print(\"Python nested list:\", py_list_2d)\n",
    "\n",
    "# NumPy 2D array\n",
    "np_array_2d = np.array([[1, 2], [3, 4]])\n",
    "print(\"NumPy 2D array:\\n\", np_array_2d)"
   ]
  },
  {
   "cell_type": "code",
   "execution_count": 61,
   "id": "2c72430f-f686-4c87-b118-490e5b8106a7",
   "metadata": {},
   "outputs": [
    {
     "name": "stdout",
     "output_type": "stream",
     "text": [
      "2\n",
      "4\n",
      "[2, 4]\n"
     ]
    }
   ],
   "source": [
    "print(len(py_list_2d))         \n",
    "print(py_list_2d[1][1])        \n",
    "col1 = [row[1] for row in py_list_2d]\n",
    "print(col1)"
   ]
  },
  {
   "cell_type": "code",
   "execution_count": null,
   "id": "aae16e1b-56cc-4a20-a63b-b6e486d93cd3",
   "metadata": {},
   "outputs": [],
   "source": []
  }
 ],
 "metadata": {
  "kernelspec": {
   "display_name": "Python 3",
   "language": "python",
   "name": "python3"
  },
  "language_info": {
   "codemirror_mode": {
    "name": "ipython",
    "version": 3
   },
   "file_extension": ".py",
   "mimetype": "text/x-python",
   "name": "python",
   "nbconvert_exporter": "python",
   "pygments_lexer": "ipython3",
   "version": "3.12.4"
  }
 },
 "nbformat": 4,
 "nbformat_minor": 5
}

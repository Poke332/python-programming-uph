{
 "cells": [
  {
   "cell_type": "markdown",
   "id": "7e23f5d0-1751-4f75-871b-d1eea88cec00",
   "metadata": {},
   "source": [
    "# Vector arithmetic"
   ]
  },
  {
   "cell_type": "code",
   "execution_count": 1,
   "id": "ed308843-8807-49f9-bd63-f912e129f970",
   "metadata": {},
   "outputs": [
    {
     "name": "stdout",
     "output_type": "stream",
     "text": [
      "Addition (a + b): [5 7 9]\n",
      "Subtraction (a - b): [-3 -3 -3]\n",
      "Scalar multiplication (2 * a): [2 4 6]\n",
      "Element-wise multiplication (a * b): [ 4 10 18]\n"
     ]
    }
   ],
   "source": [
    "import numpy as np\n",
    "\n",
    "# Define two vectors\n",
    "a = np.array([1, 2, 3])\n",
    "b = np.array([4, 5, 6])\n",
    "\n",
    "# Addition\n",
    "add = a + b\n",
    "print(\"Addition (a + b):\", add)\n",
    "\n",
    "# Subtraction\n",
    "sub = a - b\n",
    "print(\"Subtraction (a - b):\", sub)\n",
    "\n",
    "# Scalar multiplication\n",
    "scalar = 2\n",
    "scaled = scalar * a\n",
    "print(f\"Scalar multiplication ({scalar} * a):\", scaled)\n",
    "\n",
    "# Element-wise multiplication (not dot product!)\n",
    "elementwise = a * b\n",
    "print(\"Element-wise multiplication (a * b):\", elementwise)"
   ]
  },
  {
   "cell_type": "markdown",
   "id": "18ad1b15-d8d4-430d-a4dd-f74694ef1cec",
   "metadata": {},
   "source": [
    "## Exercises on vector operations\n",
    "### Please use numpy to get the results and compare the results with your hand calculations.\n",
    "![vector operations](vector_operations.png)"
   ]
  },
  {
   "cell_type": "code",
   "execution_count": null,
   "id": "7558c845",
   "metadata": {},
   "outputs": [
    {
     "name": "stdout",
     "output_type": "stream",
     "text": [
      "[3 2] [1 4]\n",
      "u + v =  [4 6]\n"
     ]
    }
   ],
   "source": [
    "u = np.array([3, 2])\n",
    "v = np.array([1, 4])\n",
    "\n",
    "print(u, v)\n",
    "print(\"u + v =\", u + v)"
   ]
  },
  {
   "cell_type": "code",
   "execution_count": 9,
   "id": "cb48c3b0",
   "metadata": {},
   "outputs": [
    {
     "name": "stdout",
     "output_type": "stream",
     "text": [
      "[6 1 2] [2 3 0]\n",
      "v - w = [ 4 -2  2]\n"
     ]
    }
   ],
   "source": [
    "v = np.array([6, 1, 2])\n",
    "w = np.array([2, 3, 0])\n",
    "\n",
    "print(v ,w)\n",
    "print(\"v - w =\",v - w)"
   ]
  },
  {
   "cell_type": "code",
   "execution_count": null,
   "id": "234ea2fb",
   "metadata": {},
   "outputs": [
    {
     "name": "stdout",
     "output_type": "stream",
     "text": [
      "0.5v = [3. 0.]\n"
     ]
    }
   ],
   "source": [
    "v = np.array([6, 0])\n",
    "\n",
    "print(v)\n",
    "print(f\"0.5v = {0.5*v}\")"
   ]
  },
  {
   "cell_type": "code",
   "execution_count": 17,
   "id": "f59d826c",
   "metadata": {},
   "outputs": [
    {
     "name": "stdout",
     "output_type": "stream",
     "text": [
      "[ 2 -1  3] 4 -0.5\n",
      "av + bv = [ 7.  -3.5 10.5]\n"
     ]
    }
   ],
   "source": [
    "v = np.array([2, -1, 3])\n",
    "a = 4\n",
    "b = -0.5\n",
    "\n",
    "print(v, a, b)\n",
    "print(\"av + bv =\", a*v + b*v)"
   ]
  },
  {
   "cell_type": "code",
   "execution_count": 16,
   "id": "2799ecb2",
   "metadata": {},
   "outputs": [
    {
     "name": "stdout",
     "output_type": "stream",
     "text": [
      "[1 4] [0 5] [ 3 -1]\n",
      "a + b + c = [4 8]\n"
     ]
    }
   ],
   "source": [
    "a = np.array([1, 4])\n",
    "b = np.array([0, 5])\n",
    "c = np.array([3, -1])\n",
    "\n",
    "print(a, b, c)\n",
    "print(\"a + b + c =\", a+b+c)"
   ]
  },
  {
   "cell_type": "markdown",
   "id": "067b8a5a-cd66-44c4-a076-90651e0410d9",
   "metadata": {},
   "source": [
    "# Dot product"
   ]
  },
  {
   "cell_type": "code",
   "execution_count": 2,
   "id": "a1db2c7a-ba26-43b8-8c99-9c4745dc1a97",
   "metadata": {},
   "outputs": [
    {
     "name": "stdout",
     "output_type": "stream",
     "text": [
      "Dot product using np.dot(): 32\n",
      "Dot product using @ operator: 32\n"
     ]
    }
   ],
   "source": [
    "import numpy as np\n",
    "\n",
    "# Define two vectors\n",
    "a = np.array([1, 2, 3])\n",
    "b = np.array([4, 5, 6])\n",
    "\n",
    "# Method 1: Using np.dot()\n",
    "dot_product_1 = np.dot(a, b)\n",
    "print(\"Dot product using np.dot():\", dot_product_1)\n",
    "\n",
    "# Method 2: Using @ operator\n",
    "dot_product_2 = a @ b\n",
    "print(\"Dot product using @ operator:\", dot_product_2)\n",
    "\n",
    "# Both methods should give the same result: 1*4 + 2*5 + 3*6 = 32"
   ]
  },
  {
   "cell_type": "markdown",
   "id": "8e5c17cb-ffdc-4a2d-aeda-f8f74e1e5444",
   "metadata": {},
   "source": [
    "# Vector magnitude"
   ]
  },
  {
   "cell_type": "code",
   "execution_count": 3,
   "id": "82c24b78-6cfc-4791-b091-7268c4797f71",
   "metadata": {},
   "outputs": [
    {
     "name": "stdout",
     "output_type": "stream",
     "text": [
      "Vector: [3 4]\n",
      "Magnitude (Euclidean norm): 5.0\n"
     ]
    }
   ],
   "source": [
    "import numpy as np\n",
    "\n",
    "# Define a vector\n",
    "v = np.array([3, 4])\n",
    "\n",
    "# Compute the magnitude (Euclidean norm) of the vector\n",
    "magnitude = np.linalg.norm(v)\n",
    "\n",
    "print(\"Vector:\", v)\n",
    "print(\"Magnitude (Euclidean norm):\", magnitude)"
   ]
  },
  {
   "cell_type": "markdown",
   "id": "952cb611-e057-49e8-bc95-75b18df1674c",
   "metadata": {},
   "source": [
    "## Exercises on vector operations\n",
    "### Please use numpy to get the results and compare the results with your hand calculations.\n",
    "![vector operations](vector_operations_2.png)"
   ]
  },
  {
   "cell_type": "code",
   "execution_count": null,
   "id": "1ced23e9-b6e2-4b11-8fdf-d4e155cf84cd",
   "metadata": {},
   "outputs": [],
   "source": []
  }
 ],
 "metadata": {
  "kernelspec": {
   "display_name": "Python 3",
   "language": "python",
   "name": "python3"
  },
  "language_info": {
   "codemirror_mode": {
    "name": "ipython",
    "version": 3
   },
   "file_extension": ".py",
   "mimetype": "text/x-python",
   "name": "python",
   "nbconvert_exporter": "python",
   "pygments_lexer": "ipython3",
   "version": "3.12.4"
  }
 },
 "nbformat": 4,
 "nbformat_minor": 5
}

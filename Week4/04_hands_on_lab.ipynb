{
 "cells": [
  {
   "cell_type": "markdown",
   "id": "a99d1d95-4664-4c0c-856c-3a388e458556",
   "metadata": {},
   "source": [
    "# Hands-on Lab\n",
    "- Follow the instructins to set up Python environment.\n",
    "- Follow the ppt to try on the exercises~\n",
    "- Explore Python and NumPy as you like!"
   ]
  },
  {
   "attachments": {},
   "cell_type": "markdown",
   "id": "b6c9b422-df05-4767-a31d-59f17ca93e24",
   "metadata": {},
   "source": [
    "## Exercise 1\n",
    "In unsupervised learning, clustering algorithms (such as K-Means) rely on distances between sample and center to determine if the sample should be assigned to the cluster. A commonly used distance metric is the Euclidean distance. Below is a set of sensor feature values collected from a device. You are asked to compute the distance between the sample and cluster center to evaluate whether they should be assigned to the cluster. A sensor system recorded two data points with the following 3-dimensional feature vectors:  \n",
    "- Sample A: a=(2.0,3.5,1.0)\n",
    "- Sample B: b=(1.6,2.1,0.5)\n",
    "\n",
    "The cluster center is: center=(1,2.5,1.0)\n",
    "\n",
    "Requirements:  \n",
    "- Calculate the Euclidean distance between a and center, also b and center.\n",
    "- Given that the current clustering radius is r = 2.0, if the distance is less than r, then it will be assigned to the center. Determine whether these samples would be assigned to the cluster."
   ]
  },
  {
   "cell_type": "code",
   "execution_count": 4,
   "id": "31e5392f",
   "metadata": {},
   "outputs": [
    {
     "name": "stdout",
     "output_type": "stream",
     "text": [
      "distance a to center: 1.4142135623730951\n",
      "distance b to center: 0.8774964387392122\n",
      "Vector A: Is in cluster\n",
      "Vector B: Is in cluster\n"
     ]
    }
   ],
   "source": [
    "import numpy as np\n",
    "\n",
    "center = np.array([1, 2.5, 1.0])\n",
    "a = np.array([2.0, 3.5, 1.0])\n",
    "b = np.array([1.6, 2.1, 0.5])\n",
    "r = 2.0\n",
    "\n",
    "distance_a = np.linalg.norm(a - center)\n",
    "distance_b = np.linalg.norm(b - center)\n",
    "\n",
    "print(f\"distance a to center: {distance_a}\\ndistance b to center: {distance_b}\")\n",
    "\n",
    "def is_in_cluster(distance, radius):\n",
    "    if distance > radius:\n",
    "        return \"Is not in cluster\"\n",
    "    else:\n",
    "        return \"Is in cluster\"\n",
    "\n",
    "print(f\"Vector A: {is_in_cluster(distance_a, r)}\")\n",
    "print(f\"Vector B: {is_in_cluster(distance_b, r)}\")\n",
    "\n"
   ]
  },
  {
   "attachments": {},
   "cell_type": "markdown",
   "id": "4f39a42b-2fd0-4d2d-91b5-16ba77e39445",
   "metadata": {},
   "source": [
    "## Exercise 2\n",
    "In natural language processing, word vectors are commonly used to represent the semantic meaning of words. To compare the similarity between two words, we often calculate the cosine similarity, which measures the cosine of the angle between their corresponding vectors. This is typically done using the dot product, as cosine similarity is defined as:cos⁡(θ)=(u.v)/‖u‖‖v‖ . A higher cosine similarity indicates greater semantic similarity between the two words.  \n",
    "Given the following word vectors:\n",
    "- Word A: a=(1,2,3)\n",
    "- Word B: b=(2,5,6)\n",
    "- Word C: c=(-1,0,7)\n",
    "\n",
    "Which two words are semantically the most similar?"
   ]
  },
  {
   "cell_type": "markdown",
   "id": "b7d9c35a-f2d8-495c-8a79-3c7f54fcfdda",
   "metadata": {},
   "source": [
    "## 🧠 Extra Exercise: Compute the angle between two vectors\n",
    "Complete the function below to compute the angle (in degrees) between two vectors using NumPy.\n",
    "\n",
    "Formula reminder:\n",
    "Given two vectors a and b,\n",
    "the angle θ between them is:\n",
    "$$\\theta=arccos(\\frac{\\boldsymbol{u}\\boldsymbol{v}}{|\\boldsymbol{u}||\\boldsymbol{v}|})$$\n",
    "\n",
    "We will use np.dot() for the dot product, np.linalg.norm() for the magnitude, and np.arccos() for the angle in radians. Then convert radians to degrees using np.degrees()."
   ]
  },
  {
   "cell_type": "code",
   "execution_count": 5,
   "id": "63af1ff1-1b8b-443f-b6ae-1d4aff609e17",
   "metadata": {},
   "outputs": [],
   "source": [
    "import numpy as np\n",
    "\n",
    "def angle_between_vectors(a, b):\n",
    "    \"\"\"\n",
    "    Compute the angle (in degrees) between two vectors a and b.\n",
    "\n",
    "    Parameters:\n",
    "        a (np.ndarray): First vector\n",
    "        b (np.ndarray): Second vector\n",
    "\n",
    "    Returns:\n",
    "        float: Angle in degrees between vectors a and b\n",
    "    \"\"\"\n",
    "    # Step 1: Compute the dot product between a and b\n",
    "    dot_product = a @ b      # use np.dot() or use a @ b\n",
    "\n",
    "    # Step 2: Compute the norms (magnitudes) of a and b\n",
    "    norm_a = np.linalg.norm(a)          # use np.linalg.norm()\n",
    "    norm_b = np.linalg.norm(b)\n",
    "\n",
    "    # Step 3: Compute the cosine of the angle\n",
    "    cos_theta = dot_product / (norm_a * norm_b)\n",
    "\n",
    "    # Step 4: Compute the angle in radians using arccos\n",
    "    theta_rad = np.arccos(cos_theta)      # use np.arccos()\n",
    "\n",
    "    # Step 5: Convert radians to degrees\n",
    "    theta_deg = np.degrees(theta_rad)      # use np.degrees()\n",
    "\n",
    "    return theta_deg"
   ]
  },
  {
   "cell_type": "code",
   "execution_count": 6,
   "id": "1043e02c-7e7c-4404-a4f8-6f79eeeb0efd",
   "metadata": {},
   "outputs": [
    {
     "name": "stdout",
     "output_type": "stream",
     "text": [
      "Angle between v1 and v2: 90.0 degrees\n"
     ]
    }
   ],
   "source": [
    "# Example usage:\n",
    "v1 = np.array([1, 0])\n",
    "v2 = np.array([0, 1])\n",
    "print(\"Angle between v1 and v2:\", angle_between_vectors(v1, v2), \"degrees\")  # Expected: 90.0"
   ]
  },
  {
   "cell_type": "code",
   "execution_count": 7,
   "id": "031bc1b3-2c7a-4cef-81d8-f5bc2ede4be6",
   "metadata": {},
   "outputs": [
    {
     "name": "stdout",
     "output_type": "stream",
     "text": [
      "Angle between v1 and v2: 45.00000000000001 degrees\n"
     ]
    }
   ],
   "source": [
    "# Test Example 1:\n",
    "v1 = np.array([1, 0])\n",
    "v2 = np.array([1, 1])\n",
    "print(\"Angle between v1 and v2:\", angle_between_vectors(v1, v2), \"degrees\")  # Expected: 45.0"
   ]
  },
  {
   "cell_type": "code",
   "execution_count": 8,
   "id": "50681e7c-8b26-4c1b-8980-e28c21f48693",
   "metadata": {},
   "outputs": [
    {
     "name": "stdout",
     "output_type": "stream",
     "text": [
      "Angle between v1 and v2: 57.688466762576155 degrees\n"
     ]
    }
   ],
   "source": [
    "# Test Example 2:\n",
    "v1 = np.array([2, -1, 2])\n",
    "v2 = np.array([1, 2, 3])\n",
    "print(\"Angle between v1 and v2:\", angle_between_vectors(v1, v2), \"degrees\")  # Expected: 57.688"
   ]
  }
 ],
 "metadata": {
  "kernelspec": {
   "display_name": "Python 3",
   "language": "python",
   "name": "python3"
  },
  "language_info": {
   "codemirror_mode": {
    "name": "ipython",
    "version": 3
   },
   "file_extension": ".py",
   "mimetype": "text/x-python",
   "name": "python",
   "nbconvert_exporter": "python",
   "pygments_lexer": "ipython3",
   "version": "3.12.4"
  }
 },
 "nbformat": 4,
 "nbformat_minor": 5
}

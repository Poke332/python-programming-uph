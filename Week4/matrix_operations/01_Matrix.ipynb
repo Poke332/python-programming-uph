{
 "cells": [
  {
   "cell_type": "markdown",
   "id": "a2b79613-15c1-4fbc-b62d-c7d9af2e8540",
   "metadata": {},
   "source": [
    "# Session 2: Matrix Operations & Linear Systems in Python"
   ]
  },
  {
   "cell_type": "markdown",
   "id": "1a7c72c6-fafc-4ce5-b4e0-42dc5f46a893",
   "metadata": {},
   "source": [
    "## Matrix Creation and Basic Operations"
   ]
  },
  {
   "cell_type": "code",
   "execution_count": 1,
   "id": "d09f934c-6edb-4707-aeb8-1fab562d9663",
   "metadata": {},
   "outputs": [
    {
     "name": "stdout",
     "output_type": "stream",
     "text": [
      "Matrix A:\n",
      " [[1 2]\n",
      " [3 4]]\n",
      "Matrix B:\n",
      " [[5 6]\n",
      " [7 8]]\n",
      "A + B:\n",
      " [[ 6  8]\n",
      " [10 12]]\n",
      "A - B:\n",
      " [[-4 -4]\n",
      " [-4 -4]]\n",
      "2 * A:\n",
      " [[2 4]\n",
      " [6 8]]\n"
     ]
    }
   ],
   "source": [
    "import numpy as np\n",
    "# Creating matrices\n",
    "A = np.array([[1, 2], [3, 4]])\n",
    "B = np.array([[5, 6], [7, 8]])\n",
    "print(\"Matrix A:\\n\", A)\n",
    "print(\"Matrix B:\\n\", B)\n",
    "# Matrix addition\n",
    "print(\"A + B:\\n\", A + B)\n",
    "# Matrix subtraction\n",
    "print(\"A - B:\\n\", A - B)\n",
    "# Scalar multiplication\n",
    "print(\"2 * A:\\n\", 2 * A)"
   ]
  },
  {
   "cell_type": "markdown",
   "id": "0b0f1b32-9a1c-4d54-9fe7-8436f7226bb0",
   "metadata": {},
   "source": [
    "![Basic_Operations_1](Basic_Operations_1.png)"
   ]
  },
  {
   "cell_type": "code",
   "execution_count": 9,
   "id": "453bfabd",
   "metadata": {},
   "outputs": [
    {
     "name": "stdout",
     "output_type": "stream",
     "text": [
      "A + B =\n",
      " [[6 2]\n",
      " [1 7]]\n",
      "C - D =\n",
      " [[ 6  2]\n",
      " [ 3 -3]]\n",
      "5E =\n",
      " [[-10   0]\n",
      " [  5  15]]\n",
      "2(G+H)-3I =\n",
      " [[ 17  -3]\n",
      " [  8 -10]]\n"
     ]
    }
   ],
   "source": [
    "A = np.array([[2,3],\n",
    "              [1,5]])\n",
    "B = np.array([[4, -1],\n",
    "              [0, 2]])\n",
    "print(\"A + B =\\n\",A + B)\n",
    "\n",
    "C = np.array([[7, 6],\n",
    "              [3, 2]])\n",
    "D = np.array([[1, 4],\n",
    "              [0, 5]])\n",
    "print(\"C - D =\\n\", C - D)\n",
    "\n",
    "E = np.array([[-2, 0],\n",
    "              [1, 3]])\n",
    "print(\"5E =\\n\", 5*E)\n",
    "\n",
    "G = np.array([[0, 2],\n",
    "              [-1, 3]])\n",
    "H = np.array([[4, -2],\n",
    "              [5, 1]])\n",
    "I = np.array([[-3, 1],\n",
    "              [0, 6]])\n",
    "print(\"2(G+H)-3I =\\n\", 2*(G+H) - 3*I)"
   ]
  },
  {
   "cell_type": "code",
   "execution_count": 12,
   "id": "fb2ba30f-c07a-4018-87ee-64061fdebe1c",
   "metadata": {},
   "outputs": [
    {
     "name": "stdout",
     "output_type": "stream",
     "text": [
      "A @ B:\n",
      " [[19 22]\n",
      " [43 50]]\n",
      "A * B (element-wise):\n",
      " [[ 5 12]\n",
      " [21 32]]\n"
     ]
    }
   ],
   "source": [
    "# A = np.array([[1, 2], [3, 4]])\n",
    "# B = np.array([[5, 6], [7, 8]])\n",
    "# Matrix multiplication using @ operator\n",
    "print(\"A @ B:\\n\", A @ B)\n",
    "\n",
    "# Element-wise multiplication using * operator\n",
    "print(\"A * B (element-wise):\\n\", A * B)"
   ]
  },
  {
   "cell_type": "markdown",
   "id": "0ac4bb1f-e298-4c22-ae3c-a1737bc3ea68",
   "metadata": {},
   "source": [
    "![Basic_Operations_2](Basic_Operations_2.png)"
   ]
  },
  {
   "cell_type": "code",
   "execution_count": 11,
   "id": "d8da3e6a",
   "metadata": {},
   "outputs": [
    {
     "name": "stdout",
     "output_type": "stream",
     "text": [
      "AB =\n",
      " [[19 22]\n",
      " [43 50]]\n",
      "AB =\n",
      " [[5 1]\n",
      " [4 2]]\n"
     ]
    }
   ],
   "source": [
    "A = np.array([[1, 2],\n",
    "              [3, 4]])\n",
    "B = np.array([[5, 6],\n",
    "              [7, 8]])\n",
    "print(\"AB =\\n\", A@B)\n",
    "\n",
    "A = np.array([[1, 0, 2],\n",
    "              [-1, 3, 1]])\n",
    "B = np.array([[3, 1],\n",
    "              [2, 1],\n",
    "              [1, 0]])\n",
    "print(\"AB =\\n\", A@B)"
   ]
  },
  {
   "cell_type": "code",
   "execution_count": 9,
   "id": "149731cd-7ccf-4af4-b799-4c1d4ffe01de",
   "metadata": {},
   "outputs": [
    {
     "name": "stdout",
     "output_type": "stream",
     "text": [
      "Transpose of A (A.T):\n",
      " [[1 3]\n",
      " [2 4]]\n",
      "Transpose of B (np.transpose):\n",
      " [[1 1]\n",
      " [2 2]]\n"
     ]
    }
   ],
   "source": [
    "# A = np.array([[1, 2], [3, 4]])\n",
    "# B = np.array([[5, 6], [7, 8]])\n",
    "# Transpose using .T\n",
    "print(\"Transpose of A (A.T):\\n\", A.T)\n",
    "\n",
    "# Transpose using np.transpose()\n",
    "print(\"Transpose of B (np.transpose):\\n\", np.transpose(B))"
   ]
  },
  {
   "cell_type": "markdown",
   "id": "a1ac3a95-92b1-42b6-bcbf-9c52b248b90a",
   "metadata": {},
   "source": [
    "![Basic_Operations_3](Basic_Operations_3.png)"
   ]
  },
  {
   "cell_type": "markdown",
   "id": "49b1a95f-f36e-42cd-914e-ea86968307d9",
   "metadata": {},
   "source": [
    "## Advanced Matrix Operations"
   ]
  },
  {
   "cell_type": "code",
   "execution_count": 2,
   "id": "8a3f434f-c954-45fb-b1e0-f7d1f9d9d12b",
   "metadata": {},
   "outputs": [
    {
     "name": "stdout",
     "output_type": "stream",
     "text": [
      "Determinant of A: -2.0000000000000004\n",
      "Is A invertible? Yes\n"
     ]
    }
   ],
   "source": [
    "# Determinant\n",
    "det_A = np.linalg.det(A)\n",
    "print(\"Determinant of A:\", det_A)\n",
    "\n",
    "# Checking invertibility\n",
    "print(\"Is A invertible?\", \"Yes\" if det_A != 0 else \"No\")"
   ]
  },
  {
   "cell_type": "code",
   "execution_count": 3,
   "id": "b38a0576-ca98-482a-991a-d5b37845ff0a",
   "metadata": {},
   "outputs": [
    {
     "name": "stdout",
     "output_type": "stream",
     "text": [
      "Inverse of A:\n",
      " [[-2.   1. ]\n",
      " [ 1.5 -0.5]]\n"
     ]
    }
   ],
   "source": [
    "# Matrix inverse\n",
    "if det_A != 0:\n",
    "    inv_A = np.linalg.inv(A)\n",
    "    print(\"Inverse of A:\\n\", inv_A)\n",
    "else:\n",
    "    print(\"Matrix A is not invertible\")"
   ]
  },
  {
   "cell_type": "markdown",
   "id": "bf2ee0fb-53bf-4a98-ba91-d579185c49d3",
   "metadata": {},
   "source": [
    "![Advanced_Operations_1](Advanced_Operations_1.png)"
   ]
  },
  {
   "cell_type": "markdown",
   "id": "2d686fb1-48f8-4e0f-bccd-e882f2473503",
   "metadata": {},
   "source": [
    "![Advanced_Operations_2](Advanced_Operations_2.png)"
   ]
  },
  {
   "cell_type": "code",
   "execution_count": 13,
   "id": "6d382511-761d-4753-afdf-5d02efce19a2",
   "metadata": {},
   "outputs": [
    {
     "name": "stdout",
     "output_type": "stream",
     "text": [
      "2x2 Identity matrix using np.identity():\n",
      " [[1. 0.]\n",
      " [0. 1.]]\n",
      "3x3 Identity matrix using np.identity():\n",
      " [[1. 0. 0.]\n",
      " [0. 1. 0.]\n",
      " [0. 0. 1.]]\n"
     ]
    }
   ],
   "source": [
    "# Identity matrix\n",
    "I_2 = np.identity(2)\n",
    "print(\"2x2 Identity matrix using np.identity():\\n\", I_2)\n",
    "\n",
    "I_3 = np.identity(3)\n",
    "print(\"3x3 Identity matrix using np.identity():\\n\", I_3)"
   ]
  },
  {
   "cell_type": "code",
   "execution_count": 17,
   "id": "79328e57-a6b7-4d1c-b2ed-3b45428c4969",
   "metadata": {},
   "outputs": [
    {
     "name": "stdout",
     "output_type": "stream",
     "text": [
      "[[1. 0. 0.]\n",
      " [0. 1. 0.]\n",
      " [0. 0. 1.]]\n",
      "[[0. 1. 0. 0.]\n",
      " [0. 0. 1. 0.]\n",
      " [0. 0. 0. 1.]]\n",
      "[[0. 0. 1. 0.]\n",
      " [0. 0. 0. 1.]\n",
      " [0. 0. 0. 0.]]\n",
      "[[0. 0. 0. 0.]\n",
      " [1. 0. 0. 0.]\n",
      " [0. 1. 0. 0.]]\n"
     ]
    }
   ],
   "source": [
    "print(np.eye(3)) # A 3x3 Identity matrix\n",
    "\n",
    "print(np.eye(3, 4, k=1)) # A 3x4 matrix with ones on the diagonal above the main diagonal.\n",
    "print(np.eye(3, 4, k=2)) \n",
    "print(np.eye(3, 4, k=-1)) # A 3x4 matrix with ones on the diagonal below the main diagonal."
   ]
  },
  {
   "cell_type": "markdown",
   "id": "818bd84e-e634-478b-a3fa-445db38f30e8",
   "metadata": {},
   "source": [
    "## Solving Linear Systems"
   ]
  },
  {
   "cell_type": "code",
   "execution_count": 5,
   "id": "5d525f46-16ce-4ad9-86ef-58276eb4bf8e",
   "metadata": {},
   "outputs": [
    {
     "name": "stdout",
     "output_type": "stream",
     "text": [
      "Solution x to Ax = b using np.linalg.solve(): [-4.   4.5]\n"
     ]
    }
   ],
   "source": [
    "# Solving Ax = b using np.linalg.solve()\n",
    "A = np.array([[1, 2], [3, 4]])\n",
    "b = np.array([5, 6])\n",
    "x = np.linalg.solve(A, b)\n",
    "print(\"Solution x to Ax = b using np.linalg.solve():\", x)"
   ]
  },
  {
   "cell_type": "code",
   "execution_count": 6,
   "id": "672f1e71-8054-4c5e-bcb9-84d86cd55192",
   "metadata": {},
   "outputs": [
    {
     "name": "stdout",
     "output_type": "stream",
     "text": [
      "Solution x using inverse method: [-4.   4.5]\n"
     ]
    }
   ],
   "source": [
    "# Solving using matrix inverse: x = A^(-1) * b\n",
    "A_inverse = np.linalg.inv(A)\n",
    "inv_method_x = A_inverse @ b\n",
    "print(\"Solution x using inverse method:\", inv_method_x)"
   ]
  },
  {
   "cell_type": "markdown",
   "id": "257f0073-bc1f-47da-9141-3ef5ad3082e9",
   "metadata": {},
   "source": [
    "| Method                  | Recommendation    | Advantages                                                  | Disadvantages                                                         |\n",
    "| ----------------------- | ----------------- | ----------------------------------------------------------- | --------------------------------------------------------------------- |\n",
    "| `np.linalg.solve(A, b)` | ✅ **Recommended** | Efficient, numerically stable, directly solves the equation | Can only be used to solve equations, does not give the inverse matrix |\n",
    "| `np.linalg.inv(A) @ b`  | ❌ Not recommended | Intuitive, gives the inverse matrix explicitly              | Slower, prone to numerical errors                                     |\n"
   ]
  },
  {
   "cell_type": "markdown",
   "id": "1c4795f9-a1ed-4c9b-a6ae-e4e5b455da27",
   "metadata": {},
   "source": [
    "#### Tips:  \n",
    "If your goal is just to solve Ax=b, always use np.linalg.solve() first.  \n",
    "Only use np.linalg.inv() when you actually need the inverse matrix itself."
   ]
  },
  {
   "cell_type": "markdown",
   "id": "447ec223-e57b-45cd-9590-ca176c4166c0",
   "metadata": {},
   "source": [
    "![Advanced_Operations_3](Advanced_Operations_3.png)"
   ]
  },
  {
   "cell_type": "code",
   "execution_count": null,
   "id": "daa26230-8e75-4e16-813a-c705c679a208",
   "metadata": {},
   "outputs": [],
   "source": []
  }
 ],
 "metadata": {
  "kernelspec": {
   "display_name": "Python 3",
   "language": "python",
   "name": "python3"
  },
  "language_info": {
   "codemirror_mode": {
    "name": "ipython",
    "version": 3
   },
   "file_extension": ".py",
   "mimetype": "text/x-python",
   "name": "python",
   "nbconvert_exporter": "python",
   "pygments_lexer": "ipython3",
   "version": "3.12.4"
  }
 },
 "nbformat": 4,
 "nbformat_minor": 5
}

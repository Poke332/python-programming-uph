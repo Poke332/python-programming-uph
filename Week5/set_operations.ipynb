{
 "cells": [
  {
   "cell_type": "code",
   "execution_count": null,
   "id": "53f2de48",
   "metadata": {},
   "outputs": [
    {
     "name": "stdout",
     "output_type": "stream",
     "text": [
      "Union: {1, 2, 3, 4, 5, 6, 7}\n",
      "Intersection: {3, 4, 5}\n",
      "H(A) - H(B): {1, 2}\n",
      "H(B) - H(A): {6, 7}\n",
      "Symmetric Difference: {1, 2, 6, 7}\n"
     ]
    }
   ],
   "source": [
    "H_A = {1, 2, 3, 4, 5}\n",
    "H_B = {3, 4, 5, 6, 7}\n",
    "\n",
    "Union = H_A | H_B\n",
    "print(\"Union:\",Union)\n",
    "\n",
    "Intersection = H_A & H_B\n",
    "print(\"Intersection:\", Intersection)\n",
    "\n",
    "Difference_A = H_A - H_B\n",
    "Difference_B = H_B - H_A\n",
    "print(\"H(A) - H(B):\", Difference_A)\n",
    "print(\"H(B) - H(A):\", Difference_B)\n",
    "\n",
    "Symmetric_Difference = H_A ^ H_B\n",
    "print(\"Symmetric Difference:\", Symmetric_Difference)"
   ]
  },
  {
   "cell_type": "code",
   "execution_count": 7,
   "id": "43ee7aa1",
   "metadata": {},
   "outputs": [
    {
     "name": "stdout",
     "output_type": "stream",
     "text": [
      "Is {2, 3} subset of {1, 2, 3}? True\n",
      "is {1, 2, 3} superset of {2, 3}? True\n"
     ]
    }
   ],
   "source": [
    "H_A = {1, 2, 3}\n",
    "H_B = {2, 3}\n",
    "\n",
    "is_L_subset_R = H_B <= H_A\n",
    "is_L_superset_R = H_A >= H_B\n",
    "print(f\"Is {H_B} subset of {H_A}? {is_L_subset_R}\")\n",
    "print(f\"is {H_A} superset of {H_B}? {is_L_superset_R}\")"
   ]
  }
 ],
 "metadata": {
  "kernelspec": {
   "display_name": "Python 3",
   "language": "python",
   "name": "python3"
  },
  "language_info": {
   "codemirror_mode": {
    "name": "ipython",
    "version": 3
   },
   "file_extension": ".py",
   "mimetype": "text/x-python",
   "name": "python",
   "nbconvert_exporter": "python",
   "pygments_lexer": "ipython3",
   "version": "3.12.4"
  }
 },
 "nbformat": 4,
 "nbformat_minor": 5
}

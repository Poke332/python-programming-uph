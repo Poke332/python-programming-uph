{
 "cells": [
  {
   "cell_type": "code",
   "execution_count": 1,
   "id": "b0258591",
   "metadata": {},
   "outputs": [],
   "source": [
    "import numpy as np\n",
    "import matplotlib.pyplot as plt"
   ]
  },
  {
   "cell_type": "code",
   "execution_count": null,
   "id": "44f3adb9",
   "metadata": {},
   "outputs": [],
   "source": [
    "v_1 = np.array([2, 1])\n",
    "v_2 = np.array([1, 3])\n",
    "\n",
    "a = np.linspace(-2, 2, 20)\n",
    "b = np.linspace(-2, 2, 20)\n",
    "A, B = np.meshgrid(a, b)\n",
    "X = A * v_1[0] + B * v_2[0]\n",
    "Y = A * v_1[1] + B * v_2[1]\n",
    "\n",
    "plt.figure(figsize=(6,6))\n",
    "plt.quiver(0, 0, v_1[0], v_1[1], angles=\"xy\", scale_units=\"xy\", scale=1, color=\"r\", label=\"v1\")\n",
    "plt.quiver(0, 0, v_2[0], v_2[1], angles=\"xy\", scale_units=\"xy\", scale=1, color=\"b\", label=\"v2\")\n",
    "plt.scatter(X, Y, alpha=0.3, s=10)\n",
    "plt.axhline(0, color='k', linewidth=0.5)\n",
    "plt.axvline(0, color='k', linewidth=0.5)\n",
    "plt.legend()\n",
    "plt.grid(True)\n",
    "plt.show()"
   ]
  },
  {
   "cell_type": "code",
   "execution_count": null,
   "id": "32fa268e",
   "metadata": {},
   "outputs": [],
   "source": []
  }
 ],
 "metadata": {
  "kernelspec": {
   "display_name": "Python 3",
   "language": "python",
   "name": "python3"
  },
  "language_info": {
   "codemirror_mode": {
    "name": "ipython",
    "version": 3
   },
   "file_extension": ".py",
   "mimetype": "text/x-python",
   "name": "python",
   "nbconvert_exporter": "python",
   "pygments_lexer": "ipython3",
   "version": "3.12.4"
  }
 },
 "nbformat": 4,
 "nbformat_minor": 5
}

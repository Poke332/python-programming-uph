{
 "cells": [
  {
   "cell_type": "markdown",
   "id": "4d71159d",
   "metadata": {},
   "source": [
    "## Object Oriented Programming"
   ]
  },
  {
   "cell_type": "code",
   "execution_count": 8,
   "id": "b781b9be",
   "metadata": {},
   "outputs": [],
   "source": [
    "class Car:\n",
    "    def __init__(self, color, make, model, speed = 0):\n",
    "        self.color = color\n",
    "        self.make = make\n",
    "        self.model = model\n",
    "        self.speed = speed\n",
    "    \n",
    "    def accelerate(self, speed):\n",
    "        self.speed += speed\n",
    "    \n",
    "    def brake(self, speed):\n",
    "        self.speed -= speed\n",
    "    \n",
    "    def honk_horn(self):\n",
    "        print(\"Honk\")"
   ]
  },
  {
   "cell_type": "code",
   "execution_count": null,
   "id": "cab67327",
   "metadata": {},
   "outputs": [
    {
     "name": "stdout",
     "output_type": "stream",
     "text": [
      "0\n",
      "10\n",
      "5\n",
      "Honk\n"
     ]
    }
   ],
   "source": [
    "car_object = Car(\"Red\", \"Ford\", \"Mustang\", 0)\n",
    "\n",
    "print(car_object.speed)\n",
    "car_object.accelerate(10)\n",
    "print(car_object.speed)\n",
    "\n",
    "car_object.brake(5)\n",
    "print(car_object.speed)\n",
    "car_object.honk_horn()"
   ]
  },
  {
   "cell_type": "code",
   "execution_count": 56,
   "id": "750fe992",
   "metadata": {},
   "outputs": [],
   "source": [
    "# Encapsulation\n",
    "class Human:\n",
    "    def __init__(self, name: str, age: int, origin: str) -> None:\n",
    "        self.name = name\n",
    "        self.age = age\n",
    "        self.origin = origin\n",
    "        \n",
    "    def talk(self, str_input: str) -> None:\n",
    "        print(f\"{self.name}: {str_input}\")\n",
    "        \n",
    "    def introduce(self) -> None:\n",
    "        print(f\"Hello, my name is {self.name} from {self.origin}, I'm {self.age} years old\")\n",
    "\n",
    "# Inheritance Student extends Human\n",
    "class Student(Human):\n",
    "    def __init__(self, name: str, age: int, origin: str, school_name: str, student_id: str) -> None:\n",
    "        super().__init__(name, age, origin)\n",
    "        self.school_name = school_name\n",
    "        self.student_id = student_id\n",
    "        self.scores = []\n",
    "    \n",
    "    def talk(self, str_input) -> None:\n",
    "        print(f\"Student {self.name}: {str_input}\")\n",
    "    \n",
    "    def introduce(self) -> None:\n",
    "        print(f\"Hello, my name is {self.name} studying at {self.school_name} with student id {self.student_id}, I'm {self.age} years old,\")\n",
    "        \n",
    "    def add_scores(self, score_list: list) -> None:\n",
    "        for score in score_list:\n",
    "            try:\n",
    "                self.scores.append(float(score))\n",
    "            except:\n",
    "                print(f\"failed to add score {score}, is not convertable to float\")\n",
    "        print(\"Score Added\")\n",
    "    \n",
    "    def calculate_avg_grades(self) -> float:\n",
    "        if len(self.scores) == 0:\n",
    "            return 0.0\n",
    "        return sum(self.scores)/len(self.scores)\n",
    "\n",
    "# Inheritance Worker extends Human\n",
    "class Worker(Human):\n",
    "    def __init__(self, name: str, age: int, origin: str, company: str, role: str, wage_per_hour: int) -> None:\n",
    "        super().__init__(name, age, origin)\n",
    "        self.company_name = company\n",
    "        self.role = role\n",
    "        self.work_hours = 0\n",
    "        self.hourly_wage = wage_per_hour\n",
    "    \n",
    "    def talk(self, str_input) -> None:\n",
    "        print(f\"{self.role} {self.name}: {str_input}\")\n",
    "    \n",
    "    def add_work_hours(self, hours: float) -> None:\n",
    "        self.work_hours += hours\n",
    "        print(f\"{self.name} now has {self.work_hours} work hours\")\n",
    "    \n",
    "    def calculate_total_wage(self) -> float:\n",
    "        return self.work_hours * self.hourly_wage"
   ]
  },
  {
   "cell_type": "code",
   "execution_count": 57,
   "id": "ee9d2f85",
   "metadata": {},
   "outputs": [
    {
     "name": "stdout",
     "output_type": "stream",
     "text": [
      "G: Hi\n",
      "Student A: Hi 2\n",
      "M K: Hi 3\n",
      "Student A: Hello\n",
      "Hello, my name is A studying at C with student id D, I'm 18 years old,\n",
      "0.00\n",
      "Score Added\n",
      "51.00\n",
      "K now has 12 work hours\n",
      "120\n"
     ]
    }
   ],
   "source": [
    "# Init objects\n",
    "student_1 = Student(\"A\", 18, \"B\", \"C\", \"D\")\n",
    "person_1 = Human(\"G\", 18, \"C\")\n",
    "worker_1 = Worker(\"K\", 22, \"C\", \"B\", \"M\", 10)\n",
    "\n",
    "# Polymorphism\n",
    "person_1.talk(\"Hi\")\n",
    "student_1.talk(\"Hi 2\")\n",
    "worker_1.talk(\"Hi 3\")\n",
    "\n",
    "# Call methods\n",
    "student_1.talk(\"Hello\")\n",
    "student_1.introduce()\n",
    "\n",
    "print(f\"{student_1.calculate_avg_grades():.2f}\")\n",
    "student_1.add_scores([87, 27, 39])\n",
    "print(f\"{student_1.calculate_avg_grades():.2f}\")\n",
    "\n",
    "worker_1.add_work_hours(12)\n",
    "print(worker_1.calculate_total_wage())"
   ]
  }
 ],
 "metadata": {
  "kernelspec": {
   "display_name": "Python 3",
   "language": "python",
   "name": "python3"
  },
  "language_info": {
   "codemirror_mode": {
    "name": "ipython",
    "version": 3
   },
   "file_extension": ".py",
   "mimetype": "text/x-python",
   "name": "python",
   "nbconvert_exporter": "python",
   "pygments_lexer": "ipython3",
   "version": "3.12.4"
  }
 },
 "nbformat": 4,
 "nbformat_minor": 5
}

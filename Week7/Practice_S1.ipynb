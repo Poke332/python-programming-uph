{
 "cells": [
  {
   "cell_type": "markdown",
   "id": "f208a657",
   "metadata": {},
   "source": [
    "### Practice 1.1"
   ]
  },
  {
   "cell_type": "code",
   "execution_count": 2,
   "id": "d6bcde36",
   "metadata": {},
   "outputs": [],
   "source": [
    "class Student():\n",
    "    def __init__(self, name: str, age: int) -> None:\n",
    "        self.name = name\n",
    "        self.age = age\n",
    "        self._grades = []\n",
    "    \n",
    "    @property\n",
    "    def grades(self):\n",
    "        return self._grades\n",
    "    \n",
    "    def add_grades(self, grade: float) -> None:\n",
    "        self._grades.append(grade)\n",
    "    \n",
    "    def calc_avg_grades(self) -> float:\n",
    "        return sum(self.grades)/len(self.grades)"
   ]
  },
  {
   "cell_type": "markdown",
   "id": "e6ecc6da",
   "metadata": {},
   "source": [
    "### Practice 1.2"
   ]
  },
  {
   "cell_type": "code",
   "execution_count": null,
   "id": "09194636",
   "metadata": {},
   "outputs": [],
   "source": [
    "import math\n",
    "\n",
    "class Points():\n",
    "    def __init__(self, x: int, y: int) -> None:\n",
    "        self._x = x\n",
    "        self._y = y\n",
    "    \n",
    "    @property\n",
    "    def x(self):\n",
    "        return self.x\n",
    "    \n",
    "    @property\n",
    "    def y(self):\n",
    "        return self.y\n",
    "    \n",
    "class PointCalcManager():\n",
    "    @staticmethod\n",
    "    def calculate_distance_2_points(point_1, point_2) -> float:\n",
    "        return math.sqrt((point_2.x - point_1.x)**2 + (point_2.y - point_1.y)**2)"
   ]
  },
  {
   "cell_type": "markdown",
   "id": "04c39958",
   "metadata": {},
   "source": [
    "### Practice 1.3"
   ]
  },
  {
   "cell_type": "code",
   "execution_count": 4,
   "id": "45012500",
   "metadata": {},
   "outputs": [],
   "source": [
    "class BankAccount():\n",
    "    def __init__(self, owner_name: str, balance: float):\n",
    "        self.owner = owner_name\n",
    "        self._balance = balance\n",
    "    \n",
    "    @property\n",
    "    def balance(self):\n",
    "        return self._balance\n",
    "    \n",
    "    def set_balance(self, balance: float):\n",
    "        self._balance = balance\n",
    "    \n",
    "    def deposit_balance(self, deposit: float):\n",
    "        self._balance += deposit\n",
    "    \n",
    "    def withdraw_balance(self, withdraw: float):\n",
    "        if withdraw > self.balance:\n",
    "            print(\"Insufficient balance\")\n",
    "        else:\n",
    "            self._balance -= withdraw\n",
    "        "
   ]
  },
  {
   "cell_type": "markdown",
   "id": "6fb8b73f",
   "metadata": {},
   "source": [
    "### Practice 1.4"
   ]
  },
  {
   "cell_type": "code",
   "execution_count": 5,
   "id": "bf286982",
   "metadata": {},
   "outputs": [],
   "source": [
    "class Book():\n",
    "    def __init__(self, title: str, author: str, pages: int):\n",
    "        self.title = title\n",
    "        self.author = author\n",
    "        self.pages = pages\n",
    "        \n",
    "    def book_details(self):\n",
    "        return f\"{self.title} by {self.author} wtih {self.pages} pages\""
   ]
  }
 ],
 "metadata": {
  "kernelspec": {
   "display_name": "Python 3",
   "language": "python",
   "name": "python3"
  },
  "language_info": {
   "codemirror_mode": {
    "name": "ipython",
    "version": 3
   },
   "file_extension": ".py",
   "mimetype": "text/x-python",
   "name": "python",
   "nbconvert_exporter": "python",
   "pygments_lexer": "ipython3",
   "version": "3.12.4"
  }
 },
 "nbformat": 4,
 "nbformat_minor": 5
}
